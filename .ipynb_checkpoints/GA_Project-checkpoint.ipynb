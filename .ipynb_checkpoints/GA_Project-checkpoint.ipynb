{
 "cells": [
  {
   "cell_type": "markdown",
   "metadata": {},
   "source": [
    "# Graph Analytics: Project\n",
    "\n",
    "-------------------------------------------------\n",
    "\n",
    "#### 2021/2022\n",
    "#### Lorenzo Pigozzi"
   ]
  },
  {
   "cell_type": "markdown",
   "metadata": {},
   "source": [
    "Note: explore https://pm4py.fit.fraunhofer.de/"
   ]
  },
  {
   "cell_type": "code",
   "execution_count": 2,
   "metadata": {},
   "outputs": [],
   "source": [
    "# importing the libraries\n",
    "import pandas as pd\n",
    "import numpy as np \n",
    "import networkx as nx\n",
    "import itertools\n",
    "import collections\n",
    "import random\n",
    "import matplotlib.pyplot as plt\n",
    "# network related libraries\n",
    "# import pm4py\n",
    "# import pycelonis\n",
    "import networkx as nx\n",
    "\n",
    "import warnings\n",
    "warnings.filterwarnings(\"ignore\")"
   ]
  },
  {
   "cell_type": "markdown",
   "metadata": {},
   "source": [
    "## 1. Importing the data"
   ]
  },
  {
   "cell_type": "code",
   "execution_count": 28,
   "metadata": {},
   "outputs": [],
   "source": [
    "# importing the datasets\n",
    "brazil = pd.read_csv('ACTIVITY_TABLE_BR.csv')\n",
    "# germany = pd.read_csv('ACTIVITY_TABLE_DE.csv')\n",
    "# portugal = pd.read_csv('ACTIVITY_TABLE_PT.csv')\n",
    "# thailand = pd.read_csv('ACTIVITY_TABLE_TH.csv')"
   ]
  },
  {
   "cell_type": "code",
   "execution_count": 29,
   "metadata": {},
   "outputs": [],
   "source": [
    "# to remove in future\n",
    "df = brazil.copy()"
   ]
  },
  {
   "cell_type": "code",
   "execution_count": 30,
   "metadata": {},
   "outputs": [
    {
     "data": {
      "text/html": [
       "<div>\n",
       "<style scoped>\n",
       "    .dataframe tbody tr th:only-of-type {\n",
       "        vertical-align: middle;\n",
       "    }\n",
       "\n",
       "    .dataframe tbody tr th {\n",
       "        vertical-align: top;\n",
       "    }\n",
       "\n",
       "    .dataframe thead th {\n",
       "        text-align: right;\n",
       "    }\n",
       "</style>\n",
       "<table border=\"1\" class=\"dataframe\">\n",
       "  <thead>\n",
       "    <tr style=\"text-align: right;\">\n",
       "      <th></th>\n",
       "      <th>ACTIVITY</th>\n",
       "      <th>TIMESTAMP</th>\n",
       "      <th>SALES_DOC</th>\n",
       "      <th>SALES_DOC_ITEM</th>\n",
       "      <th>COUNTRY</th>\n",
       "    </tr>\n",
       "  </thead>\n",
       "  <tbody>\n",
       "    <tr>\n",
       "      <th>0</th>\n",
       "      <td>Create Sales Order</td>\n",
       "      <td>2021-10-04 16:22:36</td>\n",
       "      <td>50043243</td>\n",
       "      <td>10</td>\n",
       "      <td>BR</td>\n",
       "    </tr>\n",
       "    <tr>\n",
       "      <th>1</th>\n",
       "      <td>Create Sales Order Item</td>\n",
       "      <td>2021-10-04 16:22:36</td>\n",
       "      <td>50043243</td>\n",
       "      <td>10</td>\n",
       "      <td>BR</td>\n",
       "    </tr>\n",
       "    <tr>\n",
       "      <th>2</th>\n",
       "      <td>Material Availability Date passed</td>\n",
       "      <td>2021-10-04 00:00:00</td>\n",
       "      <td>50043243</td>\n",
       "      <td>10</td>\n",
       "      <td>BR</td>\n",
       "    </tr>\n",
       "    <tr>\n",
       "      <th>3</th>\n",
       "      <td>Create Sales Order</td>\n",
       "      <td>2021-10-04 16:22:36</td>\n",
       "      <td>50043243</td>\n",
       "      <td>20</td>\n",
       "      <td>BR</td>\n",
       "    </tr>\n",
       "    <tr>\n",
       "      <th>4</th>\n",
       "      <td>Create Sales Order Item</td>\n",
       "      <td>2021-10-04 16:22:36</td>\n",
       "      <td>50043243</td>\n",
       "      <td>20</td>\n",
       "      <td>BR</td>\n",
       "    </tr>\n",
       "  </tbody>\n",
       "</table>\n",
       "</div>"
      ],
      "text/plain": [
       "                            ACTIVITY            TIMESTAMP  SALES_DOC  \\\n",
       "0                 Create Sales Order  2021-10-04 16:22:36   50043243   \n",
       "1            Create Sales Order Item  2021-10-04 16:22:36   50043243   \n",
       "2  Material Availability Date passed  2021-10-04 00:00:00   50043243   \n",
       "3                 Create Sales Order  2021-10-04 16:22:36   50043243   \n",
       "4            Create Sales Order Item  2021-10-04 16:22:36   50043243   \n",
       "\n",
       "   SALES_DOC_ITEM COUNTRY  \n",
       "0              10      BR  \n",
       "1              10      BR  \n",
       "2              10      BR  \n",
       "3              20      BR  \n",
       "4              20      BR  "
      ]
     },
     "execution_count": 30,
     "metadata": {},
     "output_type": "execute_result"
    }
   ],
   "source": [
    "df.head()"
   ]
  },
  {
   "cell_type": "code",
   "execution_count": 31,
   "metadata": {},
   "outputs": [
    {
     "data": {
      "text/plain": [
       "(1837252, 5)"
      ]
     },
     "execution_count": 31,
     "metadata": {},
     "output_type": "execute_result"
    }
   ],
   "source": [
    "df.shape"
   ]
  },
  {
   "cell_type": "code",
   "execution_count": 23,
   "metadata": {},
   "outputs": [
    {
     "name": "stdout",
     "output_type": "stream",
     "text": [
      "<class 'pandas.core.frame.DataFrame'>\n",
      "RangeIndex: 1837252 entries, 0 to 1837251\n",
      "Data columns (total 5 columns):\n",
      " #   Column          Dtype \n",
      "---  ------          ----- \n",
      " 0   ACTIVITY        object\n",
      " 1   TIMESTAMP       object\n",
      " 2   SALES_DOC       int64 \n",
      " 3   SALES_DOC_ITEM  int64 \n",
      " 4   COUNTRY         object\n",
      "dtypes: int64(2), object(3)\n",
      "memory usage: 70.1+ MB\n"
     ]
    }
   ],
   "source": [
    "df.info()"
   ]
  },
  {
   "cell_type": "markdown",
   "metadata": {},
   "source": [
    "## 2. Data exploration"
   ]
  },
  {
   "cell_type": "code",
   "execution_count": 32,
   "metadata": {},
   "outputs": [],
   "source": [
    "# changing data type for SO number and Item number\n",
    "df['SALES_DOC'] = df['SALES_DOC'].astype(str)\n",
    "df['SALES_DOC_ITEM'] = df['SALES_DOC_ITEM'].astype(str)"
   ]
  },
  {
   "cell_type": "code",
   "execution_count": 33,
   "metadata": {},
   "outputs": [],
   "source": [
    "# creating the CASE KEY, combination of Sales Order and item\n",
    "df['CASE_KEY'] = df['SALES_DOC'] + df['SALES_DOC_ITEM']"
   ]
  },
  {
   "cell_type": "code",
   "execution_count": 11,
   "metadata": {},
   "outputs": [
    {
     "name": "stdout",
     "output_type": "stream",
     "text": [
      "Number of distinct SO in the log:  90205\n"
     ]
    }
   ],
   "source": [
    "# number of distinct SO in the log\n",
    "print('Number of distinct SO in the log: ', len(df['SALES_DOC'].unique()))"
   ]
  },
  {
   "cell_type": "code",
   "execution_count": 12,
   "metadata": {},
   "outputs": [
    {
     "name": "stdout",
     "output_type": "stream",
     "text": [
      "Number of distinct cases in the log:  365032\n"
     ]
    }
   ],
   "source": [
    "# number of distinct cases in the log\n",
    "print('Number of distinct cases in the log: ', len(df['CASE_KEY'].unique()))"
   ]
  },
  {
   "cell_type": "code",
   "execution_count": 92,
   "metadata": {},
   "outputs": [
    {
     "data": {
      "text/plain": [
       "array(['Create Sales Order', 'Create Sales Order Item',\n",
       "       'Material Availability Date passed', 'Create Picking',\n",
       "       'Change Inco Terms (Part 2)', 'Create Invoice',\n",
       "       'Create Invoice cancellation', 'Set Reason for Rejection',\n",
       "       'Change Price', 'Change Requested Quantity',\n",
       "       'Customer Acceptance (L650)', 'Clear Invoice',\n",
       "       'Create Returns delivery for order', 'Record Return Goods Receipt',\n",
       "       'Create Credit memo', 'Create Delivery', 'Record Goods Issue',\n",
       "       'Cancel Goods Issue', 'Change Material Availability Date',\n",
       "       'Change Requested Goods Issue Date', 'Change Inco Terms (Part 1)',\n",
       "       'Change Payment Terms', 'Change Confirmed Quantity',\n",
       "       'Create Pro forma invoice', 'Cancel Reason for Rejection',\n",
       "       'Change Confirmed Goods Issue Date',\n",
       "       'Create Credit memo cancellation', 'Create Purchase Order',\n",
       "       'Change Confirmed Delivery Date', 'Clear Credit Memo',\n",
       "       'Set Initial Delivery Block', 'Change Requested Delivery Date',\n",
       "       'Remove Delivery Block', 'Change Material', 'Create Shipment',\n",
       "       'Change Shipping Point', 'Change Plant', 'Set Delivery Block',\n",
       "       'Change Route', 'Change Item Category', 'Change Delivery Grouping',\n",
       "       'Change Reason for Rejection'], dtype=object)"
      ]
     },
     "execution_count": 92,
     "metadata": {},
     "output_type": "execute_result"
    }
   ],
   "source": [
    "# list of distinct activities\n",
    "df['ACTIVITY'].unique()"
   ]
  },
  {
   "cell_type": "markdown",
   "metadata": {},
   "source": [
    "## 3. Data Engineering"
   ]
  },
  {
   "cell_type": "markdown",
   "metadata": {},
   "source": [
    "#### 3.1. Weight calculation"
   ]
  },
  {
   "cell_type": "code",
   "execution_count": 8,
   "metadata": {},
   "outputs": [
    {
     "name": "stdout",
     "output_type": "stream",
     "text": [
      "<class 'pandas.core.frame.DataFrame'>\n",
      "RangeIndex: 1837252 entries, 0 to 1837251\n",
      "Data columns (total 6 columns):\n",
      " #   Column          Dtype \n",
      "---  ------          ----- \n",
      " 0   ACTIVITY        object\n",
      " 1   TIMESTAMP       object\n",
      " 2   SALES_DOC       object\n",
      " 3   SALES_DOC_ITEM  object\n",
      " 4   COUNTRY         object\n",
      " 5   CASE_KEY        object\n",
      "dtypes: object(6)\n",
      "memory usage: 84.1+ MB\n"
     ]
    }
   ],
   "source": [
    "df.info()"
   ]
  },
  {
   "cell_type": "code",
   "execution_count": 35,
   "metadata": {},
   "outputs": [],
   "source": [
    "## to obtain the weights of the graph, it is necessary to engineer and make calculation for the time\n",
    "\n",
    "# changing the date type\n",
    "df['TIMESTAMP'] = pd.to_datetime(df['TIMESTAMP'], format='%Y-%m-%d %H:%M:%S')\n",
    "\n",
    "# calculating the time difference after sorting by timestamp and grouping by CASE_KEY\n",
    "# df['diff'] = df.sort_values('TIMESTAMP', ascending = True).groupby('CASE_KEY')['TIMESTAMP'].diff()\n",
    "\n",
    "df['diff'] = df.sort_values(['TIMESTAMP', 'ACTIVITY'], ascending = True).groupby('CASE_KEY')['TIMESTAMP'].diff()"
   ]
  },
  {
   "cell_type": "code",
   "execution_count": 36,
   "metadata": {},
   "outputs": [],
   "source": [
    "# weight_hour: getting the difference in seconds and dividing for 3600 to get the number of hours\n",
    "# 3600 seconds = 1 hour\n",
    "df['weight_hour'] = df['diff'].dt.total_seconds() / 3600"
   ]
  },
  {
   "cell_type": "code",
   "execution_count": 37,
   "metadata": {},
   "outputs": [],
   "source": [
    "# dropping unnecessary columns\n",
    "df.drop(columns=['SALES_DOC', 'SALES_DOC_ITEM', 'diff'], inplace = True)\n",
    "\n",
    "# resetting the index\n",
    "df = df.sort_values(['CASE_KEY', 'TIMESTAMP', 'ACTIVITY'], ascending = True).reset_index(drop = True)\n",
    "\n",
    "backup = df.copy()\n",
    "# df = backup.copy()"
   ]
  },
  {
   "cell_type": "markdown",
   "metadata": {},
   "source": [
    "#### 3.2. Source and Target creation"
   ]
  },
  {
   "cell_type": "code",
   "execution_count": 43,
   "metadata": {},
   "outputs": [],
   "source": [
    "## creating Source: \n",
    "# appending previous activity in subsequent row after aggregation by case_key and sorting by timestamp\n",
    "source = ['']\n",
    "for i in range(1, max(df.index)+1):\n",
    "    source.append(df['ACTIVITY'][i-1])\n",
    "\n",
    "df['Source'] = source"
   ]
  },
  {
   "cell_type": "code",
   "execution_count": 51,
   "metadata": {},
   "outputs": [],
   "source": [
    "# filtering the notnull weight_hour (NaN in case it is the first occurence grouped by case_key)\n",
    "final_log = df[df['weight_hour'].notnull()]"
   ]
  },
  {
   "cell_type": "code",
   "execution_count": 54,
   "metadata": {},
   "outputs": [],
   "source": [
    "# dropping and renaming columns\n",
    "final_log = final_log[['Source', 'ACTIVITY', 'weight_hour']]\n",
    "final_log.columns = ['Source', 'Target', 'weight']"
   ]
  },
  {
   "cell_type": "code",
   "execution_count": 63,
   "metadata": {},
   "outputs": [],
   "source": [
    "## aggregaating all cases by source and target and calculating median of the aggregation\n",
    "# Note: chosing median because it is not affected by outliers\n",
    "final_log = final_log.groupby(['Source', 'Target']).median('weight').reset_index(drop=False)"
   ]
  },
  {
   "cell_type": "code",
   "execution_count": 68,
   "metadata": {},
   "outputs": [],
   "source": [
    "# keeping the index as edge identifier (combination of 2 linked activities)\n",
    "final_log.reset_index(inplace = True)\n",
    "# renaming columns\n",
    "final_log.columns = ['index', 'source', 'target', 'weight']\n",
    "final_log.head()"
   ]
  },
  {
   "cell_type": "code",
   "execution_count": 75,
   "metadata": {},
   "outputs": [
    {
     "data": {
      "text/html": [
       "<div>\n",
       "<style scoped>\n",
       "    .dataframe tbody tr th:only-of-type {\n",
       "        vertical-align: middle;\n",
       "    }\n",
       "\n",
       "    .dataframe tbody tr th {\n",
       "        vertical-align: top;\n",
       "    }\n",
       "\n",
       "    .dataframe thead th {\n",
       "        text-align: right;\n",
       "    }\n",
       "</style>\n",
       "<table border=\"1\" class=\"dataframe\">\n",
       "  <thead>\n",
       "    <tr style=\"text-align: right;\">\n",
       "      <th></th>\n",
       "      <th>index</th>\n",
       "      <th>source</th>\n",
       "      <th>target</th>\n",
       "      <th>weight</th>\n",
       "    </tr>\n",
       "  </thead>\n",
       "  <tbody>\n",
       "    <tr>\n",
       "      <th>0</th>\n",
       "      <td>0</td>\n",
       "      <td>Cancel Goods Issue</td>\n",
       "      <td>Cancel Goods Issue</td>\n",
       "      <td>0.000000</td>\n",
       "    </tr>\n",
       "    <tr>\n",
       "      <th>1</th>\n",
       "      <td>1</td>\n",
       "      <td>Cancel Goods Issue</td>\n",
       "      <td>Change Payment Terms</td>\n",
       "      <td>0.020139</td>\n",
       "    </tr>\n",
       "    <tr>\n",
       "      <th>2</th>\n",
       "      <td>2</td>\n",
       "      <td>Cancel Goods Issue</td>\n",
       "      <td>Change Price</td>\n",
       "      <td>0.010000</td>\n",
       "    </tr>\n",
       "    <tr>\n",
       "      <th>3</th>\n",
       "      <td>3</td>\n",
       "      <td>Cancel Goods Issue</td>\n",
       "      <td>Create Invoice</td>\n",
       "      <td>0.014028</td>\n",
       "    </tr>\n",
       "    <tr>\n",
       "      <th>4</th>\n",
       "      <td>4</td>\n",
       "      <td>Cancel Goods Issue</td>\n",
       "      <td>Record Goods Issue</td>\n",
       "      <td>0.060833</td>\n",
       "    </tr>\n",
       "    <tr>\n",
       "      <th>...</th>\n",
       "      <td>...</td>\n",
       "      <td>...</td>\n",
       "      <td>...</td>\n",
       "      <td>...</td>\n",
       "    </tr>\n",
       "    <tr>\n",
       "      <th>572</th>\n",
       "      <td>572</td>\n",
       "      <td>Set Reason for Rejection</td>\n",
       "      <td>Create Picking</td>\n",
       "      <td>581.767500</td>\n",
       "    </tr>\n",
       "    <tr>\n",
       "      <th>573</th>\n",
       "      <td>573</td>\n",
       "      <td>Set Reason for Rejection</td>\n",
       "      <td>Create Returns delivery for order</td>\n",
       "      <td>2.524167</td>\n",
       "    </tr>\n",
       "    <tr>\n",
       "      <th>574</th>\n",
       "      <td>574</td>\n",
       "      <td>Set Reason for Rejection</td>\n",
       "      <td>Create Sales Order Item</td>\n",
       "      <td>0.099722</td>\n",
       "    </tr>\n",
       "    <tr>\n",
       "      <th>575</th>\n",
       "      <td>575</td>\n",
       "      <td>Set Reason for Rejection</td>\n",
       "      <td>Material Availability Date passed</td>\n",
       "      <td>1374.406667</td>\n",
       "    </tr>\n",
       "    <tr>\n",
       "      <th>576</th>\n",
       "      <td>576</td>\n",
       "      <td>Set Reason for Rejection</td>\n",
       "      <td>Remove Delivery Block</td>\n",
       "      <td>0.246944</td>\n",
       "    </tr>\n",
       "  </tbody>\n",
       "</table>\n",
       "<p>577 rows × 4 columns</p>\n",
       "</div>"
      ],
      "text/plain": [
       "     index                    source                             target  \\\n",
       "0        0        Cancel Goods Issue                 Cancel Goods Issue   \n",
       "1        1        Cancel Goods Issue               Change Payment Terms   \n",
       "2        2        Cancel Goods Issue                       Change Price   \n",
       "3        3        Cancel Goods Issue                     Create Invoice   \n",
       "4        4        Cancel Goods Issue                 Record Goods Issue   \n",
       "..     ...                       ...                                ...   \n",
       "572    572  Set Reason for Rejection                     Create Picking   \n",
       "573    573  Set Reason for Rejection  Create Returns delivery for order   \n",
       "574    574  Set Reason for Rejection            Create Sales Order Item   \n",
       "575    575  Set Reason for Rejection  Material Availability Date passed   \n",
       "576    576  Set Reason for Rejection              Remove Delivery Block   \n",
       "\n",
       "          weight  \n",
       "0       0.000000  \n",
       "1       0.020139  \n",
       "2       0.010000  \n",
       "3       0.014028  \n",
       "4       0.060833  \n",
       "..           ...  \n",
       "572   581.767500  \n",
       "573     2.524167  \n",
       "574     0.099722  \n",
       "575  1374.406667  \n",
       "576     0.246944  \n",
       "\n",
       "[577 rows x 4 columns]"
      ]
     },
     "execution_count": 75,
     "metadata": {},
     "output_type": "execute_result"
    }
   ],
   "source": [
    "final_log"
   ]
  },
  {
   "cell_type": "markdown",
   "metadata": {},
   "source": [
    "## 4. Graph Analytics"
   ]
  },
  {
   "cell_type": "code",
   "execution_count": 76,
   "metadata": {},
   "outputs": [],
   "source": [
    "# creating a graph with the dataframe engineered\n",
    "G_dir = nx.from_pandas_edgelist(\n",
    "    final_log,\n",
    "    edge_key=\"index\",\n",
    "    edge_attr=[\"weight\"],\n",
    "    create_using=nx.DiGraph(),\n",
    ")"
   ]
  },
  {
   "cell_type": "code",
   "execution_count": 77,
   "metadata": {},
   "outputs": [
    {
     "data": {
      "image/png": "[encoded data removed]",
      "text/plain": [
       "<Figure size 432x288 with 1 Axes>"
      ]
     },
     "metadata": {},
     "output_type": "display_data"
    }
   ],
   "source": [
    "# plotting the graph\n",
    "nx.draw(G_dir,with_labels = True)"
   ]
  },
  {
   "cell_type": "markdown",
   "metadata": {},
   "source": [
    "#### 4.1. Variant Explorer"
   ]
  },
  {
   "cell_type": "code",
   "execution_count": 89,
   "metadata": {
    "scrolled": true
   },
   "outputs": [
    {
     "data": {
      "text/plain": [
       "Create Sales Order                   365032\n",
       "Create Sales Order Item              365032\n",
       "Material Availability Date passed    345194\n",
       "Create Invoice                       132929\n",
       "Change Inco Terms (Part 2)           119269\n",
       "Create Picking                       112369\n",
       "Record Goods Issue                    84433\n",
       "Create Delivery                       81096\n",
       "Clear Invoice                         55069\n",
       "Set Reason for Rejection              28599\n",
       "Change Material Availability Date     21228\n",
       "Change Requested Quantity             13996\n",
       "Change Requested Goods Issue Date     12763\n",
       "Change Payment Terms                  11662\n",
       "Change Price                          10224\n",
       "Create Credit memo                    10142\n",
       "Change Confirmed Goods Issue Date      8463\n",
       "Change Confirmed Delivery Date         8283\n",
       "Create Purchase Order                  6901\n",
       "Record Return Goods Receipt            5456\n",
       "Create Returns delivery for order      5357\n",
       "Change Material                        4019\n",
       "Customer Acceptance (L650)             3736\n",
       "Create Pro forma invoice               3725\n",
       "Cancel Goods Issue                     3442\n",
       "Create Invoice cancellation            3066\n",
       "Change Confirmed Quantity              2616\n",
       "Set Initial Delivery Block             2154\n",
       "Change Item Category                   1818\n",
       "Change Shipping Point                  1586\n",
       "Change Plant                           1493\n",
       "Remove Delivery Block                  1420\n",
       "Change Requested Delivery Date         1082\n",
       "Change Inco Terms (Part 1)             1068\n",
       "Change Route                            864\n",
       "Cancel Reason for Rejection             685\n",
       "Set Delivery Block                      375\n",
       "Clear Credit Memo                       236\n",
       "Change Delivery Grouping                230\n",
       "Create Credit memo cancellation         129\n",
       "Change Reason for Rejection               8\n",
       "Create Shipment                           3\n",
       "Name: ACTIVITY, dtype: int64"
      ]
     },
     "execution_count": 89,
     "metadata": {},
     "output_type": "execute_result"
    }
   ],
   "source": [
    "df['ACTIVITY'].value_counts()"
   ]
  },
  {
   "cell_type": "code",
   "execution_count": 87,
   "metadata": {},
   "outputs": [
    {
     "name": "stdout",
     "output_type": "stream",
     "text": [
      "Considering the :  15.08607464551053  % of the cases\n"
     ]
    }
   ],
   "source": [
    "# identifying the closure of the process for the happy path\n",
    "# Clear invoice frquency: 55069\n",
    "print( 'Considering the : ',( 55069 / len(df['CASE_KEY'].unique()) ) * 100, ' % of the cases')"
   ]
  },
  {
   "cell_type": "code",
   "execution_count": null,
   "metadata": {},
   "outputs": [],
   "source": []
  },
  {
   "cell_type": "code",
   "execution_count": null,
   "metadata": {},
   "outputs": [],
   "source": []
  },
  {
   "cell_type": "code",
   "execution_count": null,
   "metadata": {},
   "outputs": [],
   "source": []
  },
  {
   "cell_type": "code",
   "execution_count": null,
   "metadata": {},
   "outputs": [],
   "source": []
  }
 ],
 "metadata": {
  "kernelspec": {
   "display_name": "Python 3",
   "language": "python",
   "name": "python3"
  },
  "language_info": {
   "codemirror_mode": {
    "name": "ipython",
    "version": 3
   },
   "file_extension": ".py",
   "mimetype": "text/x-python",
   "name": "python",
   "nbconvert_exporter": "python",
   "pygments_lexer": "ipython3",
   "version": "3.8.8"
  }
 },
 "nbformat": 4,
 "nbformat_minor": 4
}
